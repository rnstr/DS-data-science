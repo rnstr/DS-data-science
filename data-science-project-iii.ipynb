{
 "cells": [
  {
   "cell_type": "code",
   "execution_count": 8,
   "metadata": {
    "_cell_guid": "b1076dfc-b9ad-4769-8c92-a6c4dae69d19",
    "_uuid": "8f2839f25d086af736a60e9eeb907d3b93b6e0e5",
    "execution": {
     "iopub.execute_input": "2022-09-05T08:40:08.986784Z",
     "iopub.status.busy": "2022-09-05T08:40:08.986375Z",
     "iopub.status.idle": "2022-09-05T08:40:09.007621Z",
     "shell.execute_reply": "2022-09-05T08:40:09.006564Z",
     "shell.execute_reply.started": "2022-09-05T08:40:08.986705Z"
    }
   },
   "outputs": [],
   "source": [
    "# This Python 3 environment comes with many helpful analytics libraries installed\n",
    "# It is defined by the kaggle/python Docker image: https://github.com/kaggle/docker-python\n",
    "# For example, here's several helpful packages to load\n",
    "\n",
    "import numpy as np # linear algebra\n",
    "import pandas as pd # data processing, CSV file I/O (e.g. pd.read_csv)\n",
    "\n",
    "# Input data files are available in the read-only \"../input/\" directory\n",
    "# For example, running this (by clicking run or pressing Shift+Enter) will list all files under the input directory\n",
    "\n",
    "import os\n",
    "for dirname, _, filenames in os.walk('/kaggle/input'):\n",
    "    for filename in filenames:\n",
    "        print(os.path.join(dirname, filename))\n",
    "\n",
    "# You can write up to 20GB to the current directory (/kaggle/working/) that gets preserved as output when you create a version using \"Save & Run All\" \n",
    "# You can also write temporary files to /kaggle/temp/, but they won't be saved outside of the current session"
   ]
  },
  {
   "cell_type": "code",
   "execution_count": 9,
   "metadata": {
    "execution": {
     "iopub.execute_input": "2022-09-05T08:40:09.009750Z",
     "iopub.status.busy": "2022-09-05T08:40:09.009163Z",
     "iopub.status.idle": "2022-09-05T08:40:10.170795Z",
     "shell.execute_reply": "2022-09-05T08:40:10.169497Z",
     "shell.execute_reply.started": "2022-09-05T08:40:09.009714Z"
    }
   },
   "outputs": [
    {
     "ename": "OSError",
     "evalue": "dlopen(/Users/dmg/opt/anaconda3/lib/python3.9/site-packages/lightgbm/lib_lightgbm.so, 0x0006): Library not loaded: /usr/local/opt/libomp/lib/libomp.dylib\n  Referenced from: /Users/dmg/opt/anaconda3/lib/python3.9/site-packages/lightgbm/lib_lightgbm.so\n  Reason: tried: '/usr/local/opt/libomp/lib/libomp.dylib' (no such file), '/usr/local/lib/libomp.dylib' (no such file), '/usr/lib/libomp.dylib' (no such file)",
     "output_type": "error",
     "traceback": [
      "\u001b[0;31m---------------------------------------------------------------------------\u001b[0m",
      "\u001b[0;31mOSError\u001b[0m                                   Traceback (most recent call last)",
      "Input \u001b[0;32mIn [9]\u001b[0m, in \u001b[0;36m<cell line: 21>\u001b[0;34m()\u001b[0m\n\u001b[1;32m     19\u001b[0m \u001b[38;5;28;01mfrom\u001b[39;00m \u001b[38;5;21;01msklearn\u001b[39;00m\u001b[38;5;21;01m.\u001b[39;00m\u001b[38;5;21;01mensemble\u001b[39;00m \u001b[38;5;28;01mimport\u001b[39;00m RandomForestClassifier, GradientBoostingClassifier\n\u001b[1;32m     20\u001b[0m \u001b[38;5;28;01mfrom\u001b[39;00m \u001b[38;5;21;01msklearn\u001b[39;00m\u001b[38;5;21;01m.\u001b[39;00m\u001b[38;5;21;01mensemble\u001b[39;00m \u001b[38;5;28;01mimport\u001b[39;00m ExtraTreesClassifier\n\u001b[0;32m---> 21\u001b[0m \u001b[38;5;28;01mfrom\u001b[39;00m \u001b[38;5;21;01mlightgbm\u001b[39;00m \u001b[38;5;28;01mimport\u001b[39;00m LGBMClassifier\n\u001b[1;32m     22\u001b[0m \u001b[38;5;28;01mfrom\u001b[39;00m \u001b[38;5;21;01mxgboost\u001b[39;00m \u001b[38;5;28;01mimport\u001b[39;00m XGBClassifier\n\u001b[1;32m     24\u001b[0m \u001b[38;5;66;03m#Evaluation --> pengecekan model apakah sudah bagus atau belum\u001b[39;00m\n",
      "File \u001b[0;32m~/opt/anaconda3/lib/python3.9/site-packages/lightgbm/__init__.py:8\u001b[0m, in \u001b[0;36m<module>\u001b[0;34m\u001b[0m\n\u001b[1;32m      2\u001b[0m \u001b[38;5;124;03m\"\"\"LightGBM, Light Gradient Boosting Machine.\u001b[39;00m\n\u001b[1;32m      3\u001b[0m \n\u001b[1;32m      4\u001b[0m \u001b[38;5;124;03mContributors: https://github.com/microsoft/LightGBM/graphs/contributors.\u001b[39;00m\n\u001b[1;32m      5\u001b[0m \u001b[38;5;124;03m\"\"\"\u001b[39;00m\n\u001b[1;32m      6\u001b[0m \u001b[38;5;28;01mfrom\u001b[39;00m \u001b[38;5;21;01mpathlib\u001b[39;00m \u001b[38;5;28;01mimport\u001b[39;00m Path\n\u001b[0;32m----> 8\u001b[0m \u001b[38;5;28;01mfrom\u001b[39;00m \u001b[38;5;21;01m.\u001b[39;00m\u001b[38;5;21;01mbasic\u001b[39;00m \u001b[38;5;28;01mimport\u001b[39;00m Booster, Dataset, Sequence, register_logger\n\u001b[1;32m      9\u001b[0m \u001b[38;5;28;01mfrom\u001b[39;00m \u001b[38;5;21;01m.\u001b[39;00m\u001b[38;5;21;01mcallback\u001b[39;00m \u001b[38;5;28;01mimport\u001b[39;00m early_stopping, log_evaluation, print_evaluation, record_evaluation, reset_parameter\n\u001b[1;32m     10\u001b[0m \u001b[38;5;28;01mfrom\u001b[39;00m \u001b[38;5;21;01m.\u001b[39;00m\u001b[38;5;21;01mengine\u001b[39;00m \u001b[38;5;28;01mimport\u001b[39;00m CVBooster, cv, train\n",
      "File \u001b[0;32m~/opt/anaconda3/lib/python3.9/site-packages/lightgbm/basic.py:110\u001b[0m, in \u001b[0;36m<module>\u001b[0;34m\u001b[0m\n\u001b[1;32m    106\u001b[0m         \u001b[38;5;28;01mraise\u001b[39;00m LightGBMError(lib\u001b[38;5;241m.\u001b[39mLGBM_GetLastError()\u001b[38;5;241m.\u001b[39mdecode(\u001b[38;5;124m'\u001b[39m\u001b[38;5;124mutf-8\u001b[39m\u001b[38;5;124m'\u001b[39m))\n\u001b[1;32m    107\u001b[0m     \u001b[38;5;28;01mreturn\u001b[39;00m lib\n\u001b[0;32m--> 110\u001b[0m _LIB \u001b[38;5;241m=\u001b[39m \u001b[43m_load_lib\u001b[49m\u001b[43m(\u001b[49m\u001b[43m)\u001b[49m\n\u001b[1;32m    113\u001b[0m NUMERIC_TYPES \u001b[38;5;241m=\u001b[39m (\u001b[38;5;28mint\u001b[39m, \u001b[38;5;28mfloat\u001b[39m, \u001b[38;5;28mbool\u001b[39m)\n\u001b[1;32m    116\u001b[0m \u001b[38;5;28;01mdef\u001b[39;00m \u001b[38;5;21m_safe_call\u001b[39m(ret: \u001b[38;5;28mint\u001b[39m) \u001b[38;5;241m-\u001b[39m\u001b[38;5;241m>\u001b[39m \u001b[38;5;28;01mNone\u001b[39;00m:\n",
      "File \u001b[0;32m~/opt/anaconda3/lib/python3.9/site-packages/lightgbm/basic.py:101\u001b[0m, in \u001b[0;36m_load_lib\u001b[0;34m()\u001b[0m\n\u001b[1;32m     99\u001b[0m \u001b[38;5;28;01mif\u001b[39;00m \u001b[38;5;28mlen\u001b[39m(lib_path) \u001b[38;5;241m==\u001b[39m \u001b[38;5;241m0\u001b[39m:\n\u001b[1;32m    100\u001b[0m     \u001b[38;5;28;01mreturn\u001b[39;00m \u001b[38;5;28;01mNone\u001b[39;00m\n\u001b[0;32m--> 101\u001b[0m lib \u001b[38;5;241m=\u001b[39m \u001b[43mctypes\u001b[49m\u001b[38;5;241;43m.\u001b[39;49m\u001b[43mcdll\u001b[49m\u001b[38;5;241;43m.\u001b[39;49m\u001b[43mLoadLibrary\u001b[49m\u001b[43m(\u001b[49m\u001b[43mlib_path\u001b[49m\u001b[43m[\u001b[49m\u001b[38;5;241;43m0\u001b[39;49m\u001b[43m]\u001b[49m\u001b[43m)\u001b[49m\n\u001b[1;32m    102\u001b[0m lib\u001b[38;5;241m.\u001b[39mLGBM_GetLastError\u001b[38;5;241m.\u001b[39mrestype \u001b[38;5;241m=\u001b[39m ctypes\u001b[38;5;241m.\u001b[39mc_char_p\n\u001b[1;32m    103\u001b[0m callback \u001b[38;5;241m=\u001b[39m ctypes\u001b[38;5;241m.\u001b[39mCFUNCTYPE(\u001b[38;5;28;01mNone\u001b[39;00m, ctypes\u001b[38;5;241m.\u001b[39mc_char_p)\n",
      "File \u001b[0;32m~/opt/anaconda3/lib/python3.9/ctypes/__init__.py:460\u001b[0m, in \u001b[0;36mLibraryLoader.LoadLibrary\u001b[0;34m(self, name)\u001b[0m\n\u001b[1;32m    459\u001b[0m \u001b[38;5;28;01mdef\u001b[39;00m \u001b[38;5;21mLoadLibrary\u001b[39m(\u001b[38;5;28mself\u001b[39m, name):\n\u001b[0;32m--> 460\u001b[0m     \u001b[38;5;28;01mreturn\u001b[39;00m \u001b[38;5;28;43mself\u001b[39;49m\u001b[38;5;241;43m.\u001b[39;49m\u001b[43m_dlltype\u001b[49m\u001b[43m(\u001b[49m\u001b[43mname\u001b[49m\u001b[43m)\u001b[49m\n",
      "File \u001b[0;32m~/opt/anaconda3/lib/python3.9/ctypes/__init__.py:382\u001b[0m, in \u001b[0;36mCDLL.__init__\u001b[0;34m(self, name, mode, handle, use_errno, use_last_error, winmode)\u001b[0m\n\u001b[1;32m    379\u001b[0m \u001b[38;5;28mself\u001b[39m\u001b[38;5;241m.\u001b[39m_FuncPtr \u001b[38;5;241m=\u001b[39m _FuncPtr\n\u001b[1;32m    381\u001b[0m \u001b[38;5;28;01mif\u001b[39;00m handle \u001b[38;5;129;01mis\u001b[39;00m \u001b[38;5;28;01mNone\u001b[39;00m:\n\u001b[0;32m--> 382\u001b[0m     \u001b[38;5;28mself\u001b[39m\u001b[38;5;241m.\u001b[39m_handle \u001b[38;5;241m=\u001b[39m \u001b[43m_dlopen\u001b[49m\u001b[43m(\u001b[49m\u001b[38;5;28;43mself\u001b[39;49m\u001b[38;5;241;43m.\u001b[39;49m\u001b[43m_name\u001b[49m\u001b[43m,\u001b[49m\u001b[43m \u001b[49m\u001b[43mmode\u001b[49m\u001b[43m)\u001b[49m\n\u001b[1;32m    383\u001b[0m \u001b[38;5;28;01melse\u001b[39;00m:\n\u001b[1;32m    384\u001b[0m     \u001b[38;5;28mself\u001b[39m\u001b[38;5;241m.\u001b[39m_handle \u001b[38;5;241m=\u001b[39m handle\n",
      "\u001b[0;31mOSError\u001b[0m: dlopen(/Users/dmg/opt/anaconda3/lib/python3.9/site-packages/lightgbm/lib_lightgbm.so, 0x0006): Library not loaded: /usr/local/opt/libomp/lib/libomp.dylib\n  Referenced from: /Users/dmg/opt/anaconda3/lib/python3.9/site-packages/lightgbm/lib_lightgbm.so\n  Reason: tried: '/usr/local/opt/libomp/lib/libomp.dylib' (no such file), '/usr/local/lib/libomp.dylib' (no such file), '/usr/lib/libomp.dylib' (no such file)"
     ]
    }
   ],
   "source": [
    "#Base\n",
    "import pandas as np #untuk mengolah dataset\n",
    "import numpy as np  #untuk perhitungan\n",
    "\n",
    "#plotting --> untuk visualisasi\n",
    "import seaborn as sns\n",
    "import matplotlib.pyplot as plt\n",
    "\n",
    "#disable warning\n",
    "import warnings\n",
    "warnings.filterwarnings(\"ignore\")\n",
    "\n",
    "#Machine Learning Model\n",
    "from sklearn.tree import DecisionTreeClassifier\n",
    "from sklearn.linear_model import LogisticRegression\n",
    "from sklearn.neighbors import KNeighborsClassifier\n",
    "from sklearn.naive_bayes import GaussianNB\n",
    "from sklearn.svm import SVC, LinearSVC\n",
    "from sklearn.ensemble import RandomForestClassifier, GradientBoostingClassifier\n",
    "from sklearn.ensemble import ExtraTreesClassifier\n",
    "from lightgbm import LGBMClassifier\n",
    "from xgboost import XGBClassifier\n",
    "\n",
    "#Evaluation --> pengecekan model apakah sudah bagus atau belum\n",
    "from sklearn import metrics\n",
    "from sklearn.metrics import classification_report, roc_auc_score, roc_curve\n",
    "from sklearn.metrics import make_scorer, accuracy_score, precision_score, recall_score, f1_score, log_loss\n",
    "from sklearn.metrics import confusion_matrix\n",
    "\n",
    "#Train-Test Split\n",
    "from sklearn.model_selection import train_test_split\n",
    "\n",
    "#Cross Validation --> untuk mengatasi data-data yang tidak balance\n",
    "from sklearn.model_selection import StratifiedKFold\n",
    "from sklearn.model_selection import RepeatedStratifiedKFold\n",
    "\n",
    "#Grid Search --> untuk mencari hyperparameter terbaik\n",
    "from sklearn.model_selection import GridSearchCV\n",
    "\n",
    "#Save Model\n",
    "import pickle\n",
    "import requests\n",
    "import json\n"
   ]
  },
  {
   "cell_type": "code",
   "execution_count": 10,
   "metadata": {
    "execution": {
     "iopub.execute_input": "2022-09-05T08:40:10.172532Z",
     "iopub.status.busy": "2022-09-05T08:40:10.172200Z",
     "iopub.status.idle": "2022-09-05T08:40:10.181599Z",
     "shell.execute_reply": "2022-09-05T08:40:10.180508Z",
     "shell.execute_reply.started": "2022-09-05T08:40:10.172502Z"
    }
   },
   "outputs": [],
   "source": [
    "#Import dataset \n",
    "df  = pd.read_csv('diabetes.csv')"
   ]
  },
  {
   "cell_type": "code",
   "execution_count": 11,
   "metadata": {
    "execution": {
     "iopub.execute_input": "2022-09-05T08:40:10.185346Z",
     "iopub.status.busy": "2022-09-05T08:40:10.184483Z",
     "iopub.status.idle": "2022-09-05T08:40:10.205600Z",
     "shell.execute_reply": "2022-09-05T08:40:10.204830Z",
     "shell.execute_reply.started": "2022-09-05T08:40:10.185301Z"
    }
   },
   "outputs": [
    {
     "data": {
      "text/html": [
       "<div>\n",
       "<style scoped>\n",
       "    .dataframe tbody tr th:only-of-type {\n",
       "        vertical-align: middle;\n",
       "    }\n",
       "\n",
       "    .dataframe tbody tr th {\n",
       "        vertical-align: top;\n",
       "    }\n",
       "\n",
       "    .dataframe thead th {\n",
       "        text-align: right;\n",
       "    }\n",
       "</style>\n",
       "<table border=\"1\" class=\"dataframe\">\n",
       "  <thead>\n",
       "    <tr style=\"text-align: right;\">\n",
       "      <th></th>\n",
       "      <th>Pregnancies</th>\n",
       "      <th>Glucose</th>\n",
       "      <th>BloodPressure</th>\n",
       "      <th>SkinThickness</th>\n",
       "      <th>Insulin</th>\n",
       "      <th>BMI</th>\n",
       "      <th>DiabetesPedigreeFunction</th>\n",
       "      <th>Age</th>\n",
       "      <th>Outcome</th>\n",
       "    </tr>\n",
       "  </thead>\n",
       "  <tbody>\n",
       "    <tr>\n",
       "      <th>0</th>\n",
       "      <td>6</td>\n",
       "      <td>148</td>\n",
       "      <td>72</td>\n",
       "      <td>35</td>\n",
       "      <td>0</td>\n",
       "      <td>33.6</td>\n",
       "      <td>0.627</td>\n",
       "      <td>50</td>\n",
       "      <td>1</td>\n",
       "    </tr>\n",
       "    <tr>\n",
       "      <th>1</th>\n",
       "      <td>1</td>\n",
       "      <td>85</td>\n",
       "      <td>66</td>\n",
       "      <td>29</td>\n",
       "      <td>0</td>\n",
       "      <td>26.6</td>\n",
       "      <td>0.351</td>\n",
       "      <td>31</td>\n",
       "      <td>0</td>\n",
       "    </tr>\n",
       "    <tr>\n",
       "      <th>2</th>\n",
       "      <td>8</td>\n",
       "      <td>183</td>\n",
       "      <td>64</td>\n",
       "      <td>0</td>\n",
       "      <td>0</td>\n",
       "      <td>23.3</td>\n",
       "      <td>0.672</td>\n",
       "      <td>32</td>\n",
       "      <td>1</td>\n",
       "    </tr>\n",
       "    <tr>\n",
       "      <th>3</th>\n",
       "      <td>1</td>\n",
       "      <td>89</td>\n",
       "      <td>66</td>\n",
       "      <td>23</td>\n",
       "      <td>94</td>\n",
       "      <td>28.1</td>\n",
       "      <td>0.167</td>\n",
       "      <td>21</td>\n",
       "      <td>0</td>\n",
       "    </tr>\n",
       "    <tr>\n",
       "      <th>4</th>\n",
       "      <td>0</td>\n",
       "      <td>137</td>\n",
       "      <td>40</td>\n",
       "      <td>35</td>\n",
       "      <td>168</td>\n",
       "      <td>43.1</td>\n",
       "      <td>2.288</td>\n",
       "      <td>33</td>\n",
       "      <td>1</td>\n",
       "    </tr>\n",
       "    <tr>\n",
       "      <th>...</th>\n",
       "      <td>...</td>\n",
       "      <td>...</td>\n",
       "      <td>...</td>\n",
       "      <td>...</td>\n",
       "      <td>...</td>\n",
       "      <td>...</td>\n",
       "      <td>...</td>\n",
       "      <td>...</td>\n",
       "      <td>...</td>\n",
       "    </tr>\n",
       "    <tr>\n",
       "      <th>763</th>\n",
       "      <td>10</td>\n",
       "      <td>101</td>\n",
       "      <td>76</td>\n",
       "      <td>48</td>\n",
       "      <td>180</td>\n",
       "      <td>32.9</td>\n",
       "      <td>0.171</td>\n",
       "      <td>63</td>\n",
       "      <td>0</td>\n",
       "    </tr>\n",
       "    <tr>\n",
       "      <th>764</th>\n",
       "      <td>2</td>\n",
       "      <td>122</td>\n",
       "      <td>70</td>\n",
       "      <td>27</td>\n",
       "      <td>0</td>\n",
       "      <td>36.8</td>\n",
       "      <td>0.340</td>\n",
       "      <td>27</td>\n",
       "      <td>0</td>\n",
       "    </tr>\n",
       "    <tr>\n",
       "      <th>765</th>\n",
       "      <td>5</td>\n",
       "      <td>121</td>\n",
       "      <td>72</td>\n",
       "      <td>23</td>\n",
       "      <td>112</td>\n",
       "      <td>26.2</td>\n",
       "      <td>0.245</td>\n",
       "      <td>30</td>\n",
       "      <td>0</td>\n",
       "    </tr>\n",
       "    <tr>\n",
       "      <th>766</th>\n",
       "      <td>1</td>\n",
       "      <td>126</td>\n",
       "      <td>60</td>\n",
       "      <td>0</td>\n",
       "      <td>0</td>\n",
       "      <td>30.1</td>\n",
       "      <td>0.349</td>\n",
       "      <td>47</td>\n",
       "      <td>1</td>\n",
       "    </tr>\n",
       "    <tr>\n",
       "      <th>767</th>\n",
       "      <td>1</td>\n",
       "      <td>93</td>\n",
       "      <td>70</td>\n",
       "      <td>31</td>\n",
       "      <td>0</td>\n",
       "      <td>30.4</td>\n",
       "      <td>0.315</td>\n",
       "      <td>23</td>\n",
       "      <td>0</td>\n",
       "    </tr>\n",
       "  </tbody>\n",
       "</table>\n",
       "<p>768 rows × 9 columns</p>\n",
       "</div>"
      ],
      "text/plain": [
       "     Pregnancies  Glucose  BloodPressure  SkinThickness  Insulin   BMI  \\\n",
       "0              6      148             72             35        0  33.6   \n",
       "1              1       85             66             29        0  26.6   \n",
       "2              8      183             64              0        0  23.3   \n",
       "3              1       89             66             23       94  28.1   \n",
       "4              0      137             40             35      168  43.1   \n",
       "..           ...      ...            ...            ...      ...   ...   \n",
       "763           10      101             76             48      180  32.9   \n",
       "764            2      122             70             27        0  36.8   \n",
       "765            5      121             72             23      112  26.2   \n",
       "766            1      126             60              0        0  30.1   \n",
       "767            1       93             70             31        0  30.4   \n",
       "\n",
       "     DiabetesPedigreeFunction  Age  Outcome  \n",
       "0                       0.627   50        1  \n",
       "1                       0.351   31        0  \n",
       "2                       0.672   32        1  \n",
       "3                       0.167   21        0  \n",
       "4                       2.288   33        1  \n",
       "..                        ...  ...      ...  \n",
       "763                     0.171   63        0  \n",
       "764                     0.340   27        0  \n",
       "765                     0.245   30        0  \n",
       "766                     0.349   47        1  \n",
       "767                     0.315   23        0  \n",
       "\n",
       "[768 rows x 9 columns]"
      ]
     },
     "execution_count": 11,
     "metadata": {},
     "output_type": "execute_result"
    }
   ],
   "source": [
    "#Menampilkan dataset\n",
    "df"
   ]
  },
  {
   "cell_type": "code",
   "execution_count": 12,
   "metadata": {
    "execution": {
     "iopub.execute_input": "2022-09-05T08:40:10.207407Z",
     "iopub.status.busy": "2022-09-05T08:40:10.206912Z",
     "iopub.status.idle": "2022-09-05T08:40:10.221565Z",
     "shell.execute_reply": "2022-09-05T08:40:10.220466Z",
     "shell.execute_reply.started": "2022-09-05T08:40:10.207375Z"
    }
   },
   "outputs": [
    {
     "name": "stdout",
     "output_type": "stream",
     "text": [
      "<class 'pandas.core.frame.DataFrame'>\n",
      "RangeIndex: 768 entries, 0 to 767\n",
      "Data columns (total 9 columns):\n",
      " #   Column                    Non-Null Count  Dtype  \n",
      "---  ------                    --------------  -----  \n",
      " 0   Pregnancies               768 non-null    int64  \n",
      " 1   Glucose                   768 non-null    int64  \n",
      " 2   BloodPressure             768 non-null    int64  \n",
      " 3   SkinThickness             768 non-null    int64  \n",
      " 4   Insulin                   768 non-null    int64  \n",
      " 5   BMI                       768 non-null    float64\n",
      " 6   DiabetesPedigreeFunction  768 non-null    float64\n",
      " 7   Age                       768 non-null    int64  \n",
      " 8   Outcome                   768 non-null    int64  \n",
      "dtypes: float64(2), int64(7)\n",
      "memory usage: 54.1 KB\n"
     ]
    }
   ],
   "source": [
    "#check missing values dan tipe data yang tidak sama\n",
    "df.info()"
   ]
  },
  {
   "cell_type": "code",
   "execution_count": 13,
   "metadata": {
    "execution": {
     "iopub.execute_input": "2022-09-05T08:40:10.223530Z",
     "iopub.status.busy": "2022-09-05T08:40:10.223211Z",
     "iopub.status.idle": "2022-09-05T08:40:10.237624Z",
     "shell.execute_reply": "2022-09-05T08:40:10.236498Z",
     "shell.execute_reply.started": "2022-09-05T08:40:10.223500Z"
    }
   },
   "outputs": [
    {
     "name": "stdout",
     "output_type": "stream",
     "text": [
      "<class 'pandas.core.frame.DataFrame'>\n",
      "RangeIndex: 768 entries, 0 to 767\n",
      "Data columns (total 9 columns):\n",
      " #   Column                    Non-Null Count  Dtype  \n",
      "---  ------                    --------------  -----  \n",
      " 0   Pregnancies               768 non-null    float64\n",
      " 1   Glucose                   768 non-null    float64\n",
      " 2   BloodPressure             768 non-null    float64\n",
      " 3   SkinThickness             768 non-null    float64\n",
      " 4   Insulin                   768 non-null    float64\n",
      " 5   BMI                       768 non-null    float64\n",
      " 6   DiabetesPedigreeFunction  768 non-null    float64\n",
      " 7   Age                       768 non-null    float64\n",
      " 8   Outcome                   768 non-null    float64\n",
      "dtypes: float64(9)\n",
      "memory usage: 54.1 KB\n"
     ]
    }
   ],
   "source": [
    "# samakan type data , ubah integer ke float\n",
    "df = df.astype(float)\n",
    "df.info()\n"
   ]
  },
  {
   "cell_type": "code",
   "execution_count": 14,
   "metadata": {
    "execution": {
     "iopub.execute_input": "2022-09-05T08:40:10.239780Z",
     "iopub.status.busy": "2022-09-05T08:40:10.239425Z",
     "iopub.status.idle": "2022-09-05T08:40:10.816624Z",
     "shell.execute_reply": "2022-09-05T08:40:10.815427Z",
     "shell.execute_reply.started": "2022-09-05T08:40:10.239748Z"
    }
   },
   "outputs": [
    {
     "data": {
      "text/plain": [
       "<AxesSubplot:>"
      ]
     },
     "execution_count": 14,
     "metadata": {},
     "output_type": "execute_result"
    },
    {
     "data": {
      "image/png": "[encoded data removed]",
      "text/plain": [
       "<Figure size 2160x2160 with 1 Axes>"
      ]
     },
     "metadata": {
      "needs_background": "light"
     },
     "output_type": "display_data"
    }
   ],
   "source": [
    "#check outlier using box plot (untuk cek data yang melenceng jauh, karena akan membuat model menjadi jelek)\n",
    "fig, ax = plt.subplots(figsize = (30,30))\n",
    "sns.boxplot(data=df)"
   ]
  },
  {
   "cell_type": "code",
   "execution_count": 15,
   "metadata": {
    "execution": {
     "iopub.execute_input": "2022-09-05T08:40:10.818871Z",
     "iopub.status.busy": "2022-09-05T08:40:10.818094Z",
     "iopub.status.idle": "2022-09-05T08:40:10.835431Z",
     "shell.execute_reply": "2022-09-05T08:40:10.834408Z",
     "shell.execute_reply.started": "2022-09-05T08:40:10.818834Z"
    }
   },
   "outputs": [],
   "source": [
    "# Mengatasi outlier IQR cara 1 (datanya harus numerik)\n",
    "Q3 = (df[df.columns]).quantile(0.75)\n",
    "Q1 = (df[df.columns]).quantile(0.25)\n",
    "IQR = Q3 - Q1\n",
    "\n",
    "lower_range = Q1 - 1.5 * IQR\n",
    "upper_range = Q3 + 1.5 * IQR\n",
    "\n",
    "more_than = (df > upper_range)\n",
    "lower_than = (df < lower_range)\n",
    "\n",
    "df = df.mask(more_than, upper_range, axis = 1)\n",
    "df = df.mask(lower_than, lower_range, axis = 1)\n",
    "    \n",
    "    \n",
    "    "
   ]
  },
  {
   "cell_type": "code",
   "execution_count": 16,
   "metadata": {
    "execution": {
     "iopub.execute_input": "2022-09-05T08:40:10.837775Z",
     "iopub.status.busy": "2022-09-05T08:40:10.836967Z",
     "iopub.status.idle": "2022-09-05T08:40:11.368979Z",
     "shell.execute_reply": "2022-09-05T08:40:11.367701Z",
     "shell.execute_reply.started": "2022-09-05T08:40:10.837735Z"
    }
   },
   "outputs": [
    {
     "data": {
      "text/plain": [
       "<AxesSubplot:>"
      ]
     },
     "execution_count": 16,
     "metadata": {},
     "output_type": "execute_result"
    },
    {
     "data": {
      "image/png": "[encoded data removed]",
      "text/plain": [
       "<Figure size 2160x2160 with 1 Axes>"
      ]
     },
     "metadata": {
      "needs_background": "light"
     },
     "output_type": "display_data"
    }
   ],
   "source": [
    "#check outlier after handling outlier\n",
    "fig, ax = plt.subplots(figsize = (30,30))\n",
    "sns.boxplot(data=df)"
   ]
  },
  {
   "cell_type": "code",
   "execution_count": 17,
   "metadata": {
    "execution": {
     "iopub.execute_input": "2022-09-05T08:40:11.371441Z",
     "iopub.status.busy": "2022-09-05T08:40:11.370793Z",
     "iopub.status.idle": "2022-09-05T08:40:11.377879Z",
     "shell.execute_reply": "2022-09-05T08:40:11.376186Z",
     "shell.execute_reply.started": "2022-09-05T08:40:11.371391Z"
    }
   },
   "outputs": [],
   "source": [
    " # Removing the outliers IQR cara 2 --> harus di run beberapa kali, agar outliernya hilang\n",
    "# def removeOutliers(data, col):\n",
    "#     Q3 = np.quantile(data[col], 0.75)\n",
    "#     Q1 = np.quantile(data[col], 0.25)\n",
    "#     IQR = Q3 - Q1\n",
    "\n",
    "#     print(\"IQR value for column %s is: %s\" % (col, IQR))\n",
    "#     global outlier_free_list\n",
    "#     global filtered_data\n",
    "\n",
    "#     lower_range = Q1 - 1.5 * IQR\n",
    "#     upper_range = Q3 + 1.5 * IQR\n",
    "#     outlier_free_list = [x for x in data[col] if (\n",
    "#         (x > lower_range) & (x < upper_range))]\n",
    "#     filtered_data = data.loc[data[col].isin(outlier_free_list)]\n",
    "\n",
    "\n",
    "# for column in df.columns:\n",
    "#     if column == df.columns[0]:\n",
    "#         removeOutliers(df, column)\n",
    "#     else:\n",
    "#         removeOutliers(filtered_data, column)\n",
    "\n",
    "# # Assigning filtered data back to our original variable\n",
    "# df = filtered_data\n",
    "# print(\"Shape of data after outlier removal is: \", df.shape)\n"
   ]
  },
  {
   "cell_type": "code",
   "execution_count": 18,
   "metadata": {
    "execution": {
     "iopub.execute_input": "2022-09-05T08:40:11.380148Z",
     "iopub.status.busy": "2022-09-05T08:40:11.379513Z",
     "iopub.status.idle": "2022-09-05T08:40:11.388453Z",
     "shell.execute_reply": "2022-09-05T08:40:11.387137Z",
     "shell.execute_reply.started": "2022-09-05T08:40:11.380113Z"
    }
   },
   "outputs": [],
   "source": [
    "#check outlier after handling outlier\n",
    "# fig, ax = plt.subplots(figsize = (30,30))\n",
    "# sns.boxplot(data=df)"
   ]
  },
  {
   "cell_type": "code",
   "execution_count": 19,
   "metadata": {
    "execution": {
     "iopub.execute_input": "2022-09-05T08:40:11.390422Z",
     "iopub.status.busy": "2022-09-05T08:40:11.389958Z",
     "iopub.status.idle": "2022-09-05T08:40:11.579983Z",
     "shell.execute_reply": "2022-09-05T08:40:11.578930Z",
     "shell.execute_reply.started": "2022-09-05T08:40:11.390389Z"
    }
   },
   "outputs": [
    {
     "data": {
      "text/plain": [
       "<AxesSubplot:xlabel='Outcome', ylabel='count'>"
      ]
     },
     "execution_count": 19,
     "metadata": {},
     "output_type": "execute_result"
    },
    {
     "data": {
      "image/png": "[encoded data removed]",
      "text/plain": [
       "<Figure size 576x432 with 1 Axes>"
      ]
     },
     "metadata": {
      "needs_background": "light"
     },
     "output_type": "display_data"
    }
   ],
   "source": [
    "#cek data balance\n",
    "plt.figure(figsize=(8,6))\n",
    "sns.countplot(df.Outcome)\n"
   ]
  },
  {
   "cell_type": "code",
   "execution_count": 20,
   "metadata": {
    "execution": {
     "iopub.execute_input": "2022-09-05T08:40:11.584136Z",
     "iopub.status.busy": "2022-09-05T08:40:11.583793Z",
     "iopub.status.idle": "2022-09-05T08:40:12.269710Z",
     "shell.execute_reply": "2022-09-05T08:40:12.268342Z",
     "shell.execute_reply.started": "2022-09-05T08:40:11.584106Z"
    }
   },
   "outputs": [
    {
     "data": {
      "text/plain": [
       "<AxesSubplot:>"
      ]
     },
     "execution_count": 20,
     "metadata": {},
     "output_type": "execute_result"
    },
    {
     "data": {
      "image/png": "[encoded data removed]",
      "text/plain": [
       "<Figure size 720x720 with 2 Axes>"
      ]
     },
     "metadata": {
      "needs_background": "light"
     },
     "output_type": "display_data"
    }
   ],
   "source": [
    "#karena data tidak balance, maka cek kolerasi matriks nya, jika ada yang korelasi nya diatas batas, maka bisa hapus salah satu kolom\n",
    "#correlation matrix\n",
    "corr_matrix = df.corr().abs()\n",
    "\n",
    "#select upper triangle of correlation matrix\n",
    "upper = corr_matrix.where(np.triu(np.ones(corr_matrix.shape), k =1).astype(np.bool))\n",
    "\n",
    "plt.figure(figsize=(10,10))\n",
    "sns.heatmap(upper, annot = True, cmap = 'Blues')"
   ]
  },
  {
   "cell_type": "code",
   "execution_count": null,
   "metadata": {
    "execution": {
     "iopub.execute_input": "2022-09-05T08:40:12.273928Z",
     "iopub.status.busy": "2022-09-05T08:40:12.273522Z",
     "iopub.status.idle": "2022-09-05T08:40:12.292433Z",
     "shell.execute_reply": "2022-09-05T08:40:12.291154Z",
     "shell.execute_reply.started": "2022-09-05T08:40:12.273893Z"
    }
   },
   "outputs": [],
   "source": [
    "#memisahkan x dan y\n",
    "y = df['Outcome']\n",
    "X = df.drop(['Outcome'],1)\n",
    "X.head()\n"
   ]
  },
  {
   "cell_type": "code",
   "execution_count": null,
   "metadata": {
    "execution": {
     "iopub.execute_input": "2022-09-05T08:40:12.295226Z",
     "iopub.status.busy": "2022-09-05T08:40:12.294678Z",
     "iopub.status.idle": "2022-09-05T08:40:18.139830Z",
     "shell.execute_reply": "2022-09-05T08:40:18.138797Z",
     "shell.execute_reply.started": "2022-09-05T08:40:12.295178Z"
    }
   },
   "outputs": [],
   "source": [
    "# Modelling Algorithms\n",
    "\n",
    "kf = StratifiedKFold(n_splits=5,shuffle=True,random_state=42)\n",
    "\n",
    "## Collect all model in one list\n",
    "all_model = [DecisionTreeClassifier,\n",
    "            LogisticRegression,\n",
    "             KNeighborsClassifier,\n",
    "             GaussianNB,\n",
    "            SVC,\n",
    "            LinearSVC,\n",
    "            RandomForestClassifier,\n",
    "            GradientBoostingClassifier,\n",
    "            ExtraTreesClassifier,\n",
    "             XGBClassifier]\n",
    "\n",
    "model_name = ['DecisionTreeClassifier',\n",
    "            'LogisticRegression',\n",
    "             'KNeighborsClassifier',\n",
    "             'GaussianNB',\n",
    "            'SVC',\n",
    "            'LinearSVC',\n",
    "            'RandomForestClassifier',\n",
    "            'GradientBoostingClassifier',\n",
    "            'ExtraTreesClassifier',\n",
    "             'XGBClassifier']\n",
    "## loop for all model\n",
    "\n",
    "datatr = []\n",
    "datasc = []\n",
    "Recall =[]\n",
    "Precision =[]\n",
    "auc =[]\n",
    "\n",
    "for idx, model_type in enumerate(all_model):\n",
    "    num = 1\n",
    "    AccTrain = []\n",
    "    AccTest = []\n",
    "    RecallTemp = []\n",
    "    PrecisionTemp = []\n",
    "    AucTemp = []\n",
    "    nfold = 1\n",
    "    for train_index,test_index in kf.split(X,y): \n",
    "\n",
    "        print(\"----------BEFORE------------\")\n",
    "        print(\"{} Acc Train: {}, {} of KFold {}\".format(model_name[idx], AccTrain, nfold, kf.n_splits))\n",
    "        print(\"{} Acc Test: {}, {} of KFold {}\".format(model_name[idx], AccTest, nfold, kf.n_splits))\n",
    "        print(\"{} Recall: {}, {} of KFold {}\".format(model_name[idx], RecallTemp, nfold, kf.n_splits))\n",
    "        print(\"{} Precission: {}, {} of KFold {}\".format(model_name[idx], PrecisionTemp, nfold, kf.n_splits))\n",
    "        print(\"{} AUC: {}, {} of KFold {}\".format(model_name[idx], AucTemp, nfold, kf.n_splits))\n",
    "        print(\"---------------------------\")\n",
    "        \n",
    "        X_train, X_test = X.loc[train_index], X.loc[test_index]\n",
    "        y_train, y_test = y.loc[train_index], y.loc[test_index]\n",
    "        \n",
    "        model = model_type()\n",
    "        model.fit(X_train,y_train)\n",
    "        y_pred=model.predict(X_test)\n",
    "        \n",
    "        AccTrain.append(model.score(X_train , y_train))\n",
    "        AccTest.append(model.score(X_test , y_test))\n",
    "        RecallTemp.append(recall_score(y_test,y_pred))\n",
    "        PrecisionTemp.append(precision_score(y_test,y_pred))\n",
    "        AucTemp.append(roc_auc_score(y_test, y_pred))\n",
    "        \n",
    "        print(\"----------AFTER------------\")\n",
    "        print(\"{} Acc Train: {}, {} of KFold {}\".format(model_name[idx], AccTrain, nfold, kf.n_splits))\n",
    "        print(\"{} Acc Test: {}, {} of KFold {}\".format(model_name[idx], AccTest, nfold, kf.n_splits))\n",
    "        print(\"{} Recall: {}, {} of KFold {}\".format(model_name[idx], RecallTemp, nfold, kf.n_splits))\n",
    "        print(\"{} Precission: {}, {} of KFold {}\".format(model_name[idx], PrecisionTemp, nfold, kf.n_splits))\n",
    "        print(\"{} AUC: {}, {} of KFold {}\".format(model_name[idx], AucTemp, nfold, kf.n_splits))\n",
    "        print(\"---------------------------\")\n",
    "        \n",
    "        nfold += 1\n",
    "    \n",
    "    print(\"----------FINAL------------\")\n",
    "    print(\"{} Acc Train: {}\".format(model_name[idx], np.mean(AccTrain)))\n",
    "    print(\"{} Acc Test: {}\".format(model_name[idx], np.mean(AccTest)))\n",
    "    print(\"{} Recall: {}\".format(model_name[idx], np.mean(RecallTemp)))\n",
    "    print(\"{} Precission: {}\".format(model_name[idx], np.mean(PrecisionTemp)))\n",
    "    print(\"{} AUC: {}\".format(model_name[idx], np.mean(AucTemp)))\n",
    "    print(\"---------------------------\")\n",
    "    datatr.append(np.mean(AccTrain))\n",
    "    datasc.append(np.mean(AccTest))\n",
    "    Recall.append(np.mean(RecallTemp))\n",
    "    Precision.append(np.mean(PrecisionTemp))\n",
    "    auc.append(np.mean(AucTemp))"
   ]
  },
  {
   "cell_type": "code",
   "execution_count": null,
   "metadata": {
    "execution": {
     "iopub.execute_input": "2022-09-05T08:40:18.142043Z",
     "iopub.status.busy": "2022-09-05T08:40:18.141350Z",
     "iopub.status.idle": "2022-09-05T08:40:18.166868Z",
     "shell.execute_reply": "2022-09-05T08:40:18.165802Z",
     "shell.execute_reply.started": "2022-09-05T08:40:18.142005Z"
    }
   },
   "outputs": [],
   "source": [
    "## compare model each other\n",
    "data_hasil = pd.DataFrame()\n",
    "data_hasil['model'] = model_name\n",
    "data_hasil['Accuracy training'] = datatr\n",
    "data_hasil['Accuracy test'] = datasc\n",
    "data_hasil['Precision'] = Precision\n",
    "data_hasil['Recall']= Recall\n",
    "data_hasil['AUC']=auc\n",
    "data_hasil['gap'] = abs(data_hasil['Accuracy training'] - data_hasil['Accuracy test'])\n",
    "data_hasil.sort_values(by='Accuracy test',ascending=False)"
   ]
  },
  {
   "cell_type": "markdown",
   "metadata": {},
   "source": [
    "gap yang terbaik adalah yang terendah utk menentukan apakah data overfitting"
   ]
  },
  {
   "cell_type": "code",
   "execution_count": null,
   "metadata": {
    "execution": {
     "iopub.execute_input": "2022-09-05T08:40:18.169089Z",
     "iopub.status.busy": "2022-09-05T08:40:18.168454Z",
     "iopub.status.idle": "2022-09-05T08:40:18.180011Z",
     "shell.execute_reply": "2022-09-05T08:40:18.178839Z",
     "shell.execute_reply.started": "2022-09-05T08:40:18.169053Z"
    }
   },
   "outputs": [],
   "source": [
    "#grid search\n",
    "model = LogisticRegression(max_iter = 4000)\n",
    "param = dict()\n",
    "param['solver'] = ['newton-og', 'lbfgs', 'liblinear']\n",
    "param['penalty'] = ['none', 'l1', 'l2', 'elasticnet']\n",
    "param['C'] = [ 0.00001, 0.0001, 0.001, 0.003, 0.005, 0.01, 0.03, 0.05, 0.1, 0.3, 0.5, 1,2,3,4,5,10,20,100]\n",
    "\n",
    "cv = RepeatedStratifiedKFold(n_splits=5, n_repeats=10, random_state=1)"
   ]
  },
  {
   "cell_type": "code",
   "execution_count": null,
   "metadata": {
    "execution": {
     "iopub.execute_input": "2022-09-05T08:40:18.182671Z",
     "iopub.status.busy": "2022-09-05T08:40:18.181890Z",
     "iopub.status.idle": "2022-09-05T08:42:07.380111Z",
     "shell.execute_reply": "2022-09-05T08:42:07.378625Z",
     "shell.execute_reply.started": "2022-09-05T08:40:18.182601Z"
    }
   },
   "outputs": [],
   "source": [
    "clf1 = GridSearchCV(model, param, scoring = 'roc_auc', n_jobs=1, cv=cv, verbose = True)\n",
    "clf1.fit(X,y)"
   ]
  },
  {
   "cell_type": "code",
   "execution_count": null,
   "metadata": {
    "execution": {
     "iopub.execute_input": "2022-09-05T08:42:07.382050Z",
     "iopub.status.busy": "2022-09-05T08:42:07.381704Z",
     "iopub.status.idle": "2022-09-05T08:42:07.388368Z",
     "shell.execute_reply": "2022-09-05T08:42:07.387095Z",
     "shell.execute_reply.started": "2022-09-05T08:42:07.382020Z"
    }
   },
   "outputs": [],
   "source": [
    "print('Best score: {}'.format(clf1.best_score_))\n",
    "print('Best hyperParameter: {}'.format(clf1.best_params_))"
   ]
  },
  {
   "cell_type": "code",
   "execution_count": null,
   "metadata": {
    "execution": {
     "iopub.execute_input": "2022-09-05T08:42:07.390204Z",
     "iopub.status.busy": "2022-09-05T08:42:07.389786Z",
     "iopub.status.idle": "2022-09-05T08:43:50.995533Z",
     "shell.execute_reply": "2022-09-05T08:43:50.994383Z",
     "shell.execute_reply.started": "2022-09-05T08:42:07.390167Z"
    }
   },
   "outputs": [],
   "source": [
    "#clf1 = GridSearchCV(model, param, scoring = 'recall', n_jobs=1, cv=cv, verbose = True)\n",
    "#clf1.fit(X,y)\n",
    "\n",
    "clf2 = GridSearchCV(model, param, scoring = 'accuracy', n_jobs=1, cv=cv, verbose = True)\n",
    "clf2.fit(X,y)"
   ]
  },
  {
   "cell_type": "code",
   "execution_count": null,
   "metadata": {
    "execution": {
     "iopub.execute_input": "2022-09-05T08:43:50.998236Z",
     "iopub.status.busy": "2022-09-05T08:43:50.997319Z",
     "iopub.status.idle": "2022-09-05T08:43:51.003902Z",
     "shell.execute_reply": "2022-09-05T08:43:51.002596Z",
     "shell.execute_reply.started": "2022-09-05T08:43:50.998198Z"
    }
   },
   "outputs": [],
   "source": [
    "print('Best score: {}'.format(clf2.best_score_))\n",
    "print('Best hyperParameter: {}'.format(clf2.best_params_))"
   ]
  },
  {
   "cell_type": "code",
   "execution_count": null,
   "metadata": {
    "execution": {
     "iopub.execute_input": "2022-09-05T08:43:51.006064Z",
     "iopub.status.busy": "2022-09-05T08:43:51.005586Z",
     "iopub.status.idle": "2022-09-05T08:43:51.018507Z",
     "shell.execute_reply": "2022-09-05T08:43:51.017518Z",
     "shell.execute_reply.started": "2022-09-05T08:43:51.006019Z"
    }
   },
   "outputs": [],
   "source": [
    "#Train-test split\n",
    "X_train, X_test, y_train, y_test = train_test_split(X,y, test_size = 0.2, random_state=42)\n",
    "\n",
    "print(\"X_train dataset shape :\", X_train.shape)\n",
    "print(\"y_train dataset shape :\", y_train.shape)\n",
    "print(\"X_test dataset shape :\", X_test.shape)\n",
    "print(\"y_test dataset shape :\", y_test.shape)"
   ]
  },
  {
   "cell_type": "code",
   "execution_count": null,
   "metadata": {
    "execution": {
     "iopub.execute_input": "2022-09-05T08:55:58.881247Z",
     "iopub.status.busy": "2022-09-05T08:55:58.880803Z",
     "iopub.status.idle": "2022-09-05T08:55:58.917594Z",
     "shell.execute_reply": "2022-09-05T08:55:58.916435Z",
     "shell.execute_reply.started": "2022-09-05T08:55:58.881210Z"
    }
   },
   "outputs": [],
   "source": [
    "#melatih model\n",
    "model_fit0 = LogisticRegression(**clf2.best_params_).fit(X_train, y_train)"
   ]
  },
  {
   "cell_type": "code",
   "execution_count": null,
   "metadata": {
    "execution": {
     "iopub.execute_input": "2022-09-05T08:56:02.148423Z",
     "iopub.status.busy": "2022-09-05T08:56:02.147955Z",
     "iopub.status.idle": "2022-09-05T08:56:02.163412Z",
     "shell.execute_reply": "2022-09-05T08:56:02.162038Z",
     "shell.execute_reply.started": "2022-09-05T08:56:02.148390Z"
    }
   },
   "outputs": [],
   "source": [
    "# test model\n",
    "y_pred_train0 = model_fit0.predict(X_train)\n",
    "print(classification_report(y_train, y_pred_train0))"
   ]
  },
  {
   "cell_type": "code",
   "execution_count": null,
   "metadata": {
    "execution": {
     "iopub.execute_input": "2022-09-05T08:56:04.780844Z",
     "iopub.status.busy": "2022-09-05T08:56:04.780416Z",
     "iopub.status.idle": "2022-09-05T08:56:05.075500Z",
     "shell.execute_reply": "2022-09-05T08:56:05.074604Z",
     "shell.execute_reply.started": "2022-09-05T08:56:04.780810Z"
    }
   },
   "outputs": [],
   "source": [
    "#confusion matrix\n",
    "cm_train = confusion_matrix(y_pred_train0, y_train)\n",
    "print(\"confusion_matrix : {}\".format(cm_train))\n",
    "sns.heatmap(cm_train , annot = True, cmap= \"Blues\", fmt = '0.3g')"
   ]
  },
  {
   "cell_type": "markdown",
   "metadata": {},
   "source": [
    "ada 48 data asli diabetes tapi model memprediksi sehat, harus di kecilin lagi. model yang di bibangun masih belum bagus"
   ]
  }
 ],
 "metadata": {
  "kernelspec": {
   "display_name": "Python 3 (ipykernel)",
   "language": "python",
   "name": "python3"
  },
  "language_info": {
   "codemirror_mode": {
    "name": "ipython",
    "version": 3
   },
   "file_extension": ".py",
   "mimetype": "text/x-python",
   "name": "python",
   "nbconvert_exporter": "python",
   "pygments_lexer": "ipython3",
   "version": "3.9.12"
  }
 },
 "nbformat": 4,
 "nbformat_minor": 4
}
